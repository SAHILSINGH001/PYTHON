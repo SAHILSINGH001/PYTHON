{
 "cells": [
  {
   "cell_type": "markdown",
   "id": "aaaeca96",
   "metadata": {},
   "source": [
    "<h1>TASK4</h1\n",
    "    "
   ]
  },
  {
   "cell_type": "code",
   "execution_count": 9,
   "id": "946158bb",
   "metadata": {},
   "outputs": [
    {
     "name": "stdout",
     "output_type": "stream",
     "text": [
      "['sahil', 'singh', 'rajput']\n",
      "hello python\n",
      "Welcome to python\n",
      "Welcome\n",
      "           wELcome            \n"
     ]
    }
   ],
   "source": [
    "s1=\"sahil singh rajput\"\n",
    "print(s1.split(\" \"))\n",
    "s2=\"          hello python  \"\n",
    "print(s2.strip())\n",
    "s3=\"Welcome to java\"\n",
    "print(s3.replace(\"java\",\"python\"))\n",
    "s4=\"wELcome\"\n",
    "print(s4.title())\n",
    "print(s4.center(30))\n"
   ]
  },
  {
   "cell_type": "code",
   "execution_count": 23,
   "id": "f4a5f3fc",
   "metadata": {},
   "outputs": [
    {
     "name": "stdout",
     "output_type": "stream",
     "text": [
      "['hello', 'my', 'name', 'is', 'sahil', 'singh', 'rajput']\n",
      "rajput\n",
      "['hello', 'my', 'is', 'sahil', 'singh']\n"
     ]
    }
   ],
   "source": [
    "mylist=[\"hello\",\"my\",\"name\",\"is\",\"sahil\",\"singh\"]\n",
    "mylist.append(\"rajput\")\n",
    "print(mylist)\n",
    "print(mylist.pop())\n",
    "mylist.remove(\"name\")\n",
    "print(mylist)\n"
   ]
  },
  {
   "cell_type": "code",
   "execution_count": 22,
   "id": "7f1bdb6d",
   "metadata": {},
   "outputs": [
    {
     "name": "stdout",
     "output_type": "stream",
     "text": [
      "[1, 3, 5, 6, 7, 10]\n"
     ]
    }
   ],
   "source": [
    "list1=[3,1,5,7,6,10]\n",
    "list1.sort()\n",
    "print(list1)"
   ]
  },
  {
   "cell_type": "code",
   "execution_count": 24,
   "id": "0d2bd550",
   "metadata": {},
   "outputs": [
    {
     "name": "stdout",
     "output_type": "stream",
     "text": [
      "['Red', 'Green', 'Blue', 'Yellow']\n",
      "['USA', 'Canada', 'Germany', 'Australia']\n",
      "['Apple', 'Banana', 'Orange', 'Mango']\n",
      "[1, 2, 3, 4, 5]\n",
      "['Java', 'C', 'C++', 'Ruby']\n"
     ]
    }
   ],
   "source": [
    "colors = ['Red', 'Green', 'Blue', 'Yellow']\n",
    "countries = ['USA', 'Canada', 'Germany', 'Australia']\n",
    "fruits = ['Apple', 'Banana', 'Orange', 'Mango']\n",
    "numbers = [1, 2, 3, 4, 5]\n",
    "language = ['Java', 'C', 'C++', 'Ruby']\n",
    "print(colors)\n",
    "print(countries)\n",
    "print(fruits)\n",
    "print(numbers)\n",
    "print(language)"
   ]
  },
  {
   "cell_type": "markdown",
   "id": "d36186ae",
   "metadata": {},
   "source": [
    "immutable data type are those which we cannot change its value like append,delete,insert at some position example is string class\n",
    "mutable data type are those which value we can change example list class"
   ]
  },
  {
   "cell_type": "markdown",
   "id": "c0205602",
   "metadata": {},
   "source": [
    "identifiers are names used to identify variable function class module or other object in python\n",
    "some basic rule are:\n",
    "1.Valid character\n",
    "2.Case sensitivity\n",
    "3.Reserved word\n",
    "4.length\n"
   ]
  },
  {
   "cell_type": "markdown",
   "id": "db75ba2f",
   "metadata": {},
   "source": [
    "<h1>Task 5</h1>"
   ]
  },
  {
   "cell_type": "markdown",
   "id": "47d06530",
   "metadata": {},
   "source": [
    "shallow copy store the refernce of other object if we make change in that object previous object is also changed\n",
    "deep copy store copies of the object value if we change in any object it doesnot affect other object"
   ]
  },
  {
   "cell_type": "code",
   "execution_count": 26,
   "id": "e9f7995e",
   "metadata": {
    "scrolled": true
   },
   "outputs": [
    {
     "name": "stdout",
     "output_type": "stream",
     "text": [
      "[{'title': 'Python Crash Course', 'author': 'Eric Matthes', 'ISBN': '978-1593276034'}, {'title': 'The Alchemist', 'author': 'Paulo Coelho', 'ISBN': '978-0062315007'}, {'title': 'To Kill a Mockingbird', 'author': 'Harper Lee', 'ISBN': '978-0446310789'}]\n",
      "[{'name': 'John Smith', 'student_id': '123456'}, {'name': 'Emily Johnson', 'student_id': '789012'}, {'name': 'Michael Davis', 'student_id': '345678'}]\n",
      "[{'book': 'Python Crash Course', 'student': 'John Smith', 'date': '2023-06-01'}, {'book': 'To Kill a Mockingbird', 'student': 'Emily Johnson', 'date': '2023-06-03'}, {'book': 'The Alchemist', 'student': 'Michael Davis', 'date': '2023-06-05'}]\n"
     ]
    }
   ],
   "source": [
    "books = [\n",
    "    {'title': 'Python Crash Course', 'author': 'Eric Matthes', 'ISBN': '978-1593276034'},\n",
    "    {'title': 'The Alchemist', 'author': 'Paulo Coelho', 'ISBN': '978-0062315007'},\n",
    "    {'title': 'To Kill a Mockingbird', 'author': 'Harper Lee', 'ISBN': '978-0446310789'},\n",
    "   \n",
    "]\n",
    "students = [\n",
    "    {'name': 'John Smith', 'student_id': '123456'},\n",
    "    {'name': 'Emily Johnson', 'student_id': '789012'},\n",
    "    {'name': 'Michael Davis', 'student_id': '345678'},\n",
    "    \n",
    "]\n",
    "transactions = [\n",
    "    {'book': 'Python Crash Course', 'student': 'John Smith', 'date': '2023-06-01'},\n",
    "    {'book': 'To Kill a Mockingbird', 'student': 'Emily Johnson', 'date': '2023-06-03'},\n",
    "    {'book': 'The Alchemist', 'student': 'Michael Davis', 'date': '2023-06-05'},\n",
    "    \n",
    "]\n",
    "print(books)\n",
    "print(students)\n",
    "print(transactions)\n",
    "\n"
   ]
  },
  {
   "cell_type": "markdown",
   "id": "9f5e6c51",
   "metadata": {},
   "source": [
    "Automic data type:they are of four type\n",
    "    1.boolean\n",
    "    2.integers\n",
    "    3.char\n",
    "    4.floats\n",
    "    "
   ]
  },
  {
   "cell_type": "markdown",
   "id": "81db8543",
   "metadata": {},
   "source": [
    "Secondary data type are those data type which can be divided into sub-data typein other word these data type are created by the combination pf primitive data type"
   ]
  },
  {
   "cell_type": "markdown",
   "id": "2036ee40",
   "metadata": {},
   "source": [
    "<h1>Task 6</h1>"
   ]
  },
  {
   "cell_type": "markdown",
   "id": "4c3d1ac8",
   "metadata": {},
   "source": [
    "<h4>What is duck typing in python, what are Dunder or special methods?\n",
    "</h4>\n",
    "Python is a Duck typing language which means that the data type of any variable is less important than its methods and attributes. It basically suggests that the data type of the variable can change according to its behaviour as long as the code is sustainable.\n",
    "\n",
    "Dunder Methods or Magic Methods are methods which allow instances of a data-type or class to interact with the built-in functions and operators of the language. Since these functions are not involked directly by the programmer, these functions are also referred to as 'Magic Methods'."
   ]
  },
  {
   "cell_type": "markdown",
   "id": "e5434235",
   "metadata": {},
   "source": [
    "<h4>What are operators? How many types of operators are there in python?</h4>\n",
    "\n",
    "Operators are symbols or special keywords which are used to perform certain tasks to produce a result. A few types of operators are as follows:\n",
    "\n",
    "Arithmetic operators\n",
    "Assignment operators\n",
    "Comparison operators\n",
    "Logical operators\n",
    "Identity operators\n",
    "Membership operators\n",
    "Bitwise operators"
   ]
  },
  {
   "cell_type": "code",
   "execution_count": null,
   "id": "d46dee84",
   "metadata": {},
   "outputs": [],
   "source": [
    "{\n",
    "  \"brand\": \"Toyota\",\n",
    "  \"model\": \"Camry\",\n",
    "  \"year\": 2019,\n",
    "  \"color\": \"Silver\",\n",
    "  \"mileage\": 45000\n",
    "}\n",
    "{\n",
    "  \"title\": \"To Kill a Mockingbird\",\n",
    "  \"author\": \"Harper Lee\",\n",
    "  \"genre\": \"Fiction\",\n",
    "  \"publication_year\": 1960,\n",
    "  \"isbn\": \"9780061120084\"\n",
    "}\n",
    "{\n",
    "  \"brand\": \"Samsung\",\n",
    "  \"model\": \"Galaxy S21\",\n",
    "  \"year\": 2021,\n",
    "  \"color\": \"Phantom Black\",\n",
    "  \"storage_capacity\": \"128GB\"\n",
    "}\n",
    "{\n",
    "  \"name\": \"Cafe Italia\",\n",
    "  \"cuisine\": \"Italian\",\n",
    "  \"location\": \"123 Main Street\",\n",
    "  \"city\": \"New York\",\n",
    "  \"rating\": 4.5\n",
    "}\n",
    "{\n",
    "  \"title\": \"The Shawshank Redemption\",\n",
    "  \"director\": \"Frank Darabont\",\n",
    "  \"genre\": \"Drama\",\n",
    "  \"release_year\": 1994,\n",
    "  \"rating\": 9.3\n",
    "}\n"
   ]
  },
  {
   "cell_type": "markdown",
   "id": "fc1ccf36",
   "metadata": {},
   "source": []
  },
  {
   "cell_type": "code",
   "execution_count": null,
   "id": "8c03cafe",
   "metadata": {},
   "outputs": [],
   "source": []
  },
  {
   "cell_type": "code",
   "execution_count": null,
   "id": "cc4c144b",
   "metadata": {},
   "outputs": [],
   "source": []
  },
  {
   "cell_type": "code",
   "execution_count": null,
   "id": "38fcd785",
   "metadata": {},
   "outputs": [],
   "source": []
  },
  {
   "cell_type": "markdown",
   "id": "0b6295d6",
   "metadata": {},
   "source": [
    "<h1 style:center>Task8</h1>\n",
    "Two value of boolean data type is: true or false\n",
    "print(10 > 9)\n",
    "print(10 == 9)\n",
    "<h4>2</h4>\n",
    "1.AND\n",
    "2.OR\n",
    "3.NOT\n",
    "<h4>4</h4>\n",
    "false\n",
    "false\n",
    "true\n",
    "false\n",
    "false\n",
    "true\n",
    "<h4>5</h4>\n",
    "1.>\n",
    "2.<\n",
    "3.=\n",
    "4.>=\n",
    "5.<=\n",
    "6.==\n",
    "7.!=\n",
    "<h4>6</h4>\n",
    "Assignment operator is used to assign a value and equal to used to compare the value\n",
    "<h4>7</h4>\n",
    "allow you to make decisions based on the values of variables or the result of comparisons"
   ]
  },
  {
   "cell_type": "markdown",
   "id": "6b67b326",
   "metadata": {},
   "source": [
    "<h1>TASK9</h1>"
   ]
  },
  {
   "cell_type": "code",
   "execution_count": 30,
   "id": "1b3f6f88",
   "metadata": {},
   "outputs": [
    {
     "name": "stdout",
     "output_type": "stream",
     "text": [
      "enter a number20\n",
      "no is positive\n"
     ]
    }
   ],
   "source": [
    "x=int(input(\"enter a number\"))\n",
    "if x==0:\n",
    "    print(\"no is zero\")\n",
    "elif x<0:\n",
    "    print(\"no is negative\")\n",
    "else:\n",
    "    print(\"no is positive\")"
   ]
  },
  {
   "cell_type": "code",
   "execution_count": 31,
   "id": "76b3246b",
   "metadata": {},
   "outputs": [
    {
     "name": "stdout",
     "output_type": "stream",
     "text": [
      "enter a number55\n",
      "no is divisible by 5 and 11\n"
     ]
    }
   ],
   "source": [
    "x=int(input(\"enter a number\"))\n",
    "if x%5==0 and x%11==0:\n",
    "    print(\"no is divisible by 5 and 11\")\n",
    "else:\n",
    "    print(\"no is not divisible by 5 and 11\")"
   ]
  },
  {
   "cell_type": "code",
   "execution_count": 34,
   "id": "66e76609",
   "metadata": {},
   "outputs": [
    {
     "name": "stdout",
     "output_type": "stream",
     "text": [
      "enter a year2000\n",
      "2000 is a leap year\n"
     ]
    }
   ],
   "source": [
    "x=int(input(\"enter a year\"))\n",
    "if (x % 400 == 0) and (x % 100 == 0):\n",
    "    print(f\"{x} is a leap year\")\n",
    "elif (x % 400 == 0) and (x % 100 == 0):\n",
    "    print(f\"{x} is a leap year\")\n",
    "else:\n",
    "    print(f\"{x} is a not a leap year\")\n",
    "    \n",
    "    "
   ]
  },
  {
   "cell_type": "code",
   "execution_count": 36,
   "id": "893aa688",
   "metadata": {},
   "outputs": [
    {
     "name": "stdout",
     "output_type": "stream",
     "text": [
      "Enter a Character: \n",
      "2\n",
      "\n",
      "It is not an alphabet!\n"
     ]
    }
   ],
   "source": [
    "print(\"Enter a Character: \")\n",
    "c = input()\n",
    "if c>='a' and c<='z':\n",
    "    print(\"\\nIt is an alphabet\")\n",
    "elif c>='A' and c<='z':\n",
    "    print(\"\\nIt is an alphabet\")\n",
    "else:\n",
    "    print(\"\\nIt is not an alphabet!\")"
   ]
  },
  {
   "cell_type": "code",
   "execution_count": 39,
   "id": "7f6fe45f",
   "metadata": {},
   "outputs": [
    {
     "name": "stdout",
     "output_type": "stream",
     "text": [
      "enter a characterw\n",
      "character is an constraint\n"
     ]
    }
   ],
   "source": [
    "ch=input(\"enter a character\")\n",
    "if ch in ('a','A','e','E','i','I','o','O','u','U'):\n",
    "    print(\"character is an vowel\")\n",
    "else:\n",
    "    print(\"character is an constraint\")"
   ]
  },
  {
   "cell_type": "code",
   "execution_count": 41,
   "id": "b8fa0cb5",
   "metadata": {},
   "outputs": [
    {
     "name": "stdout",
     "output_type": "stream",
     "text": [
      "Enter a characterU\n",
      "character is in uppercase\n"
     ]
    }
   ],
   "source": [
    "ch=input(\"Enter a character\")\n",
    "if ch.islower():\n",
    "    print(\"character is in lowercase\")\n",
    "else:\n",
    "    print(\"character is in uppercase\")"
   ]
  },
  {
   "cell_type": "code",
   "execution_count": 43,
   "id": "39560e88",
   "metadata": {},
   "outputs": [
    {
     "name": "stdout",
     "output_type": "stream",
     "text": [
      "Enter a day: 2\n",
      "Tuesday\n"
     ]
    }
   ],
   "source": [
    "x = int(input(\"Enter a day: \"))\n",
    "\n",
    "if x == 1:\n",
    "    print(\"Monday\")\n",
    "elif x == 2:\n",
    "    print(\"Tuesday\")\n",
    "elif x == 3:\n",
    "    print(\"Wednesday\")\n",
    "elif x == 4:\n",
    "    print(\"Thursday\")\n",
    "elif x == 5:\n",
    "    print(\"Friday\")\n",
    "elif x == 6:\n",
    "    print(\"Saturday\")\n",
    "elif x == 7:\n",
    "    print(\"Sunday\")\n",
    "else:\n",
    "    print(\"Invalid input\")\n"
   ]
  },
  {
   "cell_type": "code",
   "execution_count": 46,
   "id": "8f6f5e26",
   "metadata": {},
   "outputs": [
    {
     "name": "stdout",
     "output_type": "stream",
     "text": [
      "enter an angle 1:60\n",
      "enter an angle 2:60\n",
      "enter an angle 3:60\n",
      "Triangle is valid\n"
     ]
    }
   ],
   "source": [
    "angle1=int(input(\"enter an angle 1:\"))\n",
    "angle2=int(input(\"enter an angle 2:\"))\n",
    "angle3=int(input(\"enter an angle 3:\"))\n",
    "if angle1+angle2+angle3==180:\n",
    "    print(\"Triangle is valid\")\n",
    "else:\n",
    "    print(\"not valid triangle\")"
   ]
  },
  {
   "cell_type": "code",
   "execution_count": 47,
   "id": "ee4e7c0a",
   "metadata": {},
   "outputs": [
    {
     "name": "stdout",
     "output_type": "stream",
     "text": [
      "enter side1:\n"
     ]
    },
    {
     "ename": "ValueError",
     "evalue": "invalid literal for int() with base 10: ''",
     "output_type": "error",
     "traceback": [
      "\u001b[1;31m---------------------------------------------------------------------------\u001b[0m",
      "\u001b[1;31mValueError\u001b[0m                                Traceback (most recent call last)",
      "Cell \u001b[1;32mIn[47], line 1\u001b[0m\n\u001b[1;32m----> 1\u001b[0m side1\u001b[38;5;241m=\u001b[39m\u001b[38;5;28;43mint\u001b[39;49m\u001b[43m(\u001b[49m\u001b[38;5;28;43minput\u001b[39;49m\u001b[43m(\u001b[49m\u001b[38;5;124;43m\"\u001b[39;49m\u001b[38;5;124;43menter side1:\u001b[39;49m\u001b[38;5;124;43m\"\u001b[39;49m\u001b[43m)\u001b[49m\u001b[43m)\u001b[49m\n\u001b[0;32m      2\u001b[0m side2\u001b[38;5;241m=\u001b[39m\u001b[38;5;28mint\u001b[39m(\u001b[38;5;28minput\u001b[39m(\u001b[38;5;124m\"\u001b[39m\u001b[38;5;124menter side2:\u001b[39m\u001b[38;5;124m\"\u001b[39m))\n\u001b[0;32m      3\u001b[0m side3\u001b[38;5;241m=\u001b[39m\u001b[38;5;28mint\u001b[39m(\u001b[38;5;28minput\u001b[39m(\u001b[38;5;124m\"\u001b[39m\u001b[38;5;124menter side3:\u001b[39m\u001b[38;5;124m\"\u001b[39m))\n",
      "\u001b[1;31mValueError\u001b[0m: invalid literal for int() with base 10: ''"
     ]
    }
   ],
   "source": [
    "side1=int(input(\"enter side1:\"))\n",
    "side2=int(input(\"enter side2:\"))\n",
    "side3=int(input(\"enter side3:\"))\n",
    "if side1+side2>side3 and side2+side3>side1 and side3+side1>side2:\n",
    "    print(\"triangle is an valid\")\n",
    "else:\n",
    "    print(\"triangle is not a valid \")"
   ]
  },
  {
   "cell_type": "code",
   "execution_count": 48,
   "id": "51041d09",
   "metadata": {},
   "outputs": [
    {
     "name": "stdout",
     "output_type": "stream",
     "text": [
      "enter side1:40\n",
      "enter side2:40\n",
      "enter side3:50\n",
      "isosceles triangle\n"
     ]
    }
   ],
   "source": [
    "side1=int(input(\"enter side1:\"))\n",
    "side2=int(input(\"enter side2:\"))\n",
    "side3=int(input(\"enter side3:\"))\n",
    "if side1==side2==side3:\n",
    "    print(\"equilateral traingle\")\n",
    "elif side1==side2 or side2==side3 or side3==side1:\n",
    "    print(\"isosceles triangle\")\n",
    "else:\n",
    "    print(\"Scalene triangle\")"
   ]
  },
  {
   "cell_type": "code",
   "execution_count": 49,
   "id": "ca603c58",
   "metadata": {},
   "outputs": [
    {
     "name": "stdout",
     "output_type": "stream",
     "text": [
      "enter physics marks:90\n",
      "enter chemistry marks92\n",
      "enter biology marks:94\n",
      "enter maths marks:98\n",
      "enter computer marks:97\n",
      "Grade A\n"
     ]
    }
   ],
   "source": [
    "m1=int(input(\"enter physics marks:\"))\n",
    "m2=int(input(\"enter chemistry marks\"))\n",
    "m3=int(input(\"enter biology marks:\"))\n",
    "m4=int(input(\"enter maths marks:\"))\n",
    "m5=int(input(\"enter computer marks:\"))\n",
    "sum=m1+m2+m3+m4+m5\n",
    "percentage=sum/5\n",
    "if percentage>=90:\n",
    "    print(\"Grade A\")\n",
    "elif percentage>=80:\n",
    "    print(\"Grade B\")\n",
    "elif percentage>=70:\n",
    "    print(\"Grade C\")\n",
    "elif percentage>=60:\n",
    "    print(\"Grade D\")\n",
    "elif percentage>=50:\n",
    "    printf(\"Grade E\")\n",
    "else:\n",
    "    printf(\"fail\")\n",
    "    "
   ]
  },
  {
   "cell_type": "code",
   "execution_count": 1,
   "id": "0128c637",
   "metadata": {},
   "outputs": [
    {
     "name": "stdout",
     "output_type": "stream",
     "text": [
      "enter salary:15000\n",
      "Salary is: 32250.0\n"
     ]
    }
   ],
   "source": [
    "salary=float(input(\"enter salary:\"))\n",
    "if salary<=10000:\n",
    "    hra=0.2*salary\n",
    "    da=0.8*salary\n",
    "elif salary<=20000:\n",
    "    hra=0.25*salary\n",
    "    da=0.9*salary\n",
    "else:\n",
    "    hra=0.3*salary\n",
    "    da=0.95*salary\n",
    "final_salary=salary+hra+da\n",
    "print(\"Salary is:\",final_salary)\n",
    "    \n",
    "    \n",
    "    \n",
    "    "
   ]
  },
  {
   "cell_type": "code",
   "execution_count": 2,
   "id": "aa058961",
   "metadata": {},
   "outputs": [
    {
     "name": "stdout",
     "output_type": "stream",
     "text": [
      "Enter the number of electricity units consumed: 30\n",
      "Total electricity bill: Rs. 18.00\n"
     ]
    }
   ],
   "source": [
    "def calculate_electricity_bill(units):\n",
    "    total_bill = 0\n",
    "\n",
    "    \n",
    "    if units <= 50:\n",
    "        total_bill = units * 0.50\n",
    "    else:\n",
    "        total_bill += 50 * 0.50\n",
    "        units -= 50\n",
    "\n",
    "        \n",
    "        if units <= 100:\n",
    "            total_bill += units * 0.75\n",
    "        else:\n",
    "            total_bill += 100 * 0.75\n",
    "            units -= 100\n",
    "\n",
    "            \n",
    "            if units <= 100:\n",
    "                total_bill += units * 1.20\n",
    "            else:\n",
    "                total_bill += 100 * 1.20\n",
    "                units -= 100\n",
    "\n",
    "                \n",
    "                total_bill += units * 1.50\n",
    "\n",
    "    \n",
    "    total_bill += total_bill * 0.20\n",
    "\n",
    "    return total_bill\n",
    "\n",
    "units = float(input(\"Enter the number of electricity units consumed: \"))\n",
    "bill = calculate_electricity_bill(units)\n",
    "print(f\"Total electricity bill: Rs. {bill:.2f}\")\n"
   ]
  },
  {
   "cell_type": "markdown",
   "id": "73e5aabe",
   "metadata": {},
   "source": [
    "<h1>TASK 10</h1>"
   ]
  },
  {
   "cell_type": "code",
   "execution_count": 6,
   "id": "2cbc6dde",
   "metadata": {},
   "outputs": [
    {
     "name": "stdout",
     "output_type": "stream",
     "text": [
      "enter a number:1221\n",
      "number is an Palindrome no\n"
     ]
    }
   ],
   "source": [
    "num=int(input(\"enter a number:\"))\n",
    "temp=num\n",
    "rev=0\n",
    "while temp>0:\n",
    "    rem=temp%10\n",
    "    rev=rev*10+rem\n",
    "    temp=temp//10\n",
    "if num==rev:\n",
    "    print(\"number is an Palindrome no\")\n",
    "else:\n",
    "    print(\"number is not an Palindrome \")\n",
    "    \n",
    "    \n",
    "    "
   ]
  },
  {
   "cell_type": "code",
   "execution_count": 13,
   "id": "b485eeee",
   "metadata": {},
   "outputs": [
    {
     "name": "stdout",
     "output_type": "stream",
     "text": [
      "3*1=3\n",
      "3*2=6\n",
      "3*3=9\n",
      "3*4=12\n",
      "3*5=15\n",
      "3*6=18\n",
      "3*7=21\n",
      "3*8=24\n",
      "3*9=27\n",
      "3*10=30\n"
     ]
    }
   ],
   "source": [
    "no=3\n",
    "i=1\n",
    "while no<=5:\n",
    "    while i<=10:\n",
    "        print(f\"{no}*{i}={no*i}\")\n",
    "        i=i+1\n",
    "    no=no+2    \n",
    "    \n",
    "    "
   ]
  },
  {
   "cell_type": "code",
   "execution_count": null,
   "id": "3ddb5d9d",
   "metadata": {},
   "outputs": [],
   "source": [
    "no=int(input(\"enter an no which we want to find fact:\"))\n",
    "prd=1\n",
    "i=1\n",
    "while i<=no:\n",
    "    prd=prd*i\n",
    "    i=i+1\n",
    "print(\"Factorial of a no is:\",prd)    \n",
    "    "
   ]
  },
  {
   "cell_type": "code",
   "execution_count": 1,
   "id": "5a000e5a",
   "metadata": {},
   "outputs": [
    {
     "name": "stdout",
     "output_type": "stream",
     "text": [
      "enter an no which we want to find fact:5\n",
      "Factorial of a no is: 120\n"
     ]
    }
   ],
   "source": [
    "no=int(input(\"enter an no which we want to find fact:\"))\n",
    "prd=1\n",
    "i=1\n",
    "while i<=no:\n",
    "    prd=prd*i\n",
    "    i=i+1\n",
    "print(\"Factorial of a no is:\",prd)    "
   ]
  },
  {
   "cell_type": "code",
   "execution_count": 4,
   "id": "3abd9e78",
   "metadata": {},
   "outputs": [
    {
     "name": "stdout",
     "output_type": "stream",
     "text": [
      "enter the range we want to find factorial8\n",
      "0 1\n",
      "1\n",
      "2\n",
      "3\n",
      "5\n",
      "8\n",
      "13\n"
     ]
    }
   ],
   "source": [
    "no=int(input(\"enter the range we want to find factorial\"))\n",
    "n1=0\n",
    "n2=1\n",
    "print(n1,n2)\n",
    "i=2\n",
    "while i<no:\n",
    "    n3=n1+n2\n",
    "    print(n3)\n",
    "    n1=n2\n",
    "    n2=n3\n",
    "    i=i+1"
   ]
  },
  {
   "cell_type": "code",
   "execution_count": 1,
   "id": "ef91e336",
   "metadata": {},
   "outputs": [
    {
     "name": "stdout",
     "output_type": "stream",
     "text": [
      "enter the no which we want to check:371\n",
      "Armstrong no\n"
     ]
    }
   ],
   "source": [
    "num=int(input(\"enter the no which we want to check:\"))\n",
    "temp=num\n",
    "sum=0\n",
    "while temp>0:\n",
    "    rem=temp%10\n",
    "    sum=sum+rem**3\n",
    "    temp=temp//10\n",
    "if num==sum:\n",
    "    print(\"Armstrong no\")\n",
    "else:    \n",
    "    print(\"not an armstrong\")\n",
    "    "
   ]
  },
  {
   "cell_type": "markdown",
   "id": "26ab3c59",
   "metadata": {},
   "source": [
    "<h1>TASK 11</h1>\n"
   ]
  },
  {
   "cell_type": "code",
   "execution_count": 6,
   "id": "a84b27ab",
   "metadata": {},
   "outputs": [
    {
     "name": "stdout",
     "output_type": "stream",
     "text": [
      "\r\n",
      "* \r\n",
      "* * \r\n",
      "* * * \r\n",
      "* * * * \r\n",
      "* * * * * \r\n"
     ]
    }
   ],
   "source": [
    "for x in range(0,6,1):\n",
    "    for y in range(1,x+1):\n",
    "        print(\"*\", end=\" \") \n",
    "    print(\"\\r\") "
   ]
  },
  {
   "cell_type": "code",
   "execution_count": 7,
   "id": "14c0b02e",
   "metadata": {},
   "outputs": [
    {
     "name": "stdout",
     "output_type": "stream",
     "text": [
      "\r\n",
      "1 \r\n",
      "2 2 \r\n",
      "3 3 3 \r\n",
      "4 4 4 4 \r\n",
      "5 5 5 5 5 \r\n"
     ]
    }
   ],
   "source": [
    "for x in range(0,6,1):\n",
    "    for y in range(1,x+1):\n",
    "        print(x, end=\" \") \n",
    "    print(\"\\r\") "
   ]
  },
  {
   "cell_type": "code",
   "execution_count": 8,
   "id": "72578a8d",
   "metadata": {},
   "outputs": [
    {
     "name": "stdout",
     "output_type": "stream",
     "text": [
      "\r\n",
      "1 \r\n",
      "1 2 \r\n",
      "1 2 3 \r\n",
      "1 2 3 4 \r\n",
      "1 2 3 4 5 \r\n"
     ]
    }
   ],
   "source": [
    "for x in range(0,6,1):\n",
    "    for y in range(1,x+1):\n",
    "        print(y, end=\" \") \n",
    "    print(\"\\r\") "
   ]
  },
  {
   "cell_type": "code",
   "execution_count": 9,
   "id": "62727587",
   "metadata": {},
   "outputs": [
    {
     "name": "stdout",
     "output_type": "stream",
     "text": [
      "\r\n",
      "2 \r\n",
      "3 4 \r\n",
      "5 6 7 \r\n",
      "8 9 10 11 \r\n",
      "12 13 14 15 16 \r\n"
     ]
    }
   ],
   "source": [
    "z=2\n",
    "for x in range(0,6,1):\n",
    "    for y in range(1,x+1):\n",
    "        print(z, end=\" \")\n",
    "        z=z+1\n",
    "    print(\"\\r\") "
   ]
  },
  {
   "cell_type": "code",
   "execution_count": 11,
   "id": "05845030",
   "metadata": {},
   "outputs": [
    {
     "name": "stdout",
     "output_type": "stream",
     "text": [
      "\r\n",
      "1 \r\n",
      "2 3 \r\n",
      "4 5 6 \r\n",
      "7 8 9 10 \r\n",
      "11 12 13 14 15 \r\n"
     ]
    }
   ],
   "source": [
    "z=1\n",
    "for x in range(0,6,1):\n",
    "    for y in range(1,x+1):\n",
    "        print(z, end=\" \")\n",
    "        z=z+1\n",
    "    print(\"\\r\") "
   ]
  },
  {
   "cell_type": "code",
   "execution_count": 20,
   "id": "18207590",
   "metadata": {},
   "outputs": [
    {
     "name": "stdout",
     "output_type": "stream",
     "text": [
      "1 \r\n",
      "0 1 \r\n",
      "1 0 1 \r\n",
      "0 1 0 1 \r\n",
      "1 0 1 0 1 \r\n",
      "0 1 0 1 0 1 \r\n"
     ]
    }
   ],
   "source": [
    "for x in range(0,6,1):\n",
    "    for y in range(x+1):\n",
    "        if x%2==0 and y%2==0 or x%2==1 and y%2==1:\n",
    "            print(\"1\",end=\" \")\n",
    "        else:\n",
    "            print(\"0\",end=\" \")\n",
    "    print(\"\\r\") "
   ]
  },
  {
   "cell_type": "code",
   "execution_count": null,
   "id": "05ea72b2",
   "metadata": {},
   "outputs": [],
   "source": []
  },
  {
   "cell_type": "code",
   "execution_count": 21,
   "id": "e4775cb2",
   "metadata": {},
   "outputs": [
    {
     "name": "stdout",
     "output_type": "stream",
     "text": [
      "5 \r\n",
      "5 4 \r\n",
      "5 4 3 \r\n",
      "5 4 3 2 \r\n",
      "5 4 3 2 1 \r\n"
     ]
    }
   ],
   "source": [
    "\n",
    "for x in range(1,6,1):\n",
    "    z=5\n",
    "    for y in range(1,x+1):\n",
    "        print(z, end=\" \")\n",
    "        z=z-1\n",
    "    print(\"\\r\") "
   ]
  },
  {
   "cell_type": "code",
   "execution_count": 23,
   "id": "5266c7fb",
   "metadata": {},
   "outputs": [
    {
     "name": "stdout",
     "output_type": "stream",
     "text": [
      "5 \r\n",
      "4 4 \r\n",
      "3 3 3 \r\n",
      "2 2 2 2 \r\n",
      "1 1 1 1 1 \r\n"
     ]
    }
   ],
   "source": [
    "for x in range(1,6,1):\n",
    "    z=6-x\n",
    "    for y in range(1,x+1):\n",
    "        print(z, end=\" \")\n",
    "        \n",
    "    print(\"\\r\") "
   ]
  },
  {
   "cell_type": "code",
   "execution_count": 27,
   "id": "e3c9d97e",
   "metadata": {},
   "outputs": [
    {
     "name": "stdout",
     "output_type": "stream",
     "text": [
      "* * * * * * \r\n",
      "* * * * * \r\n",
      "* * * * \r\n",
      "* * * \r\n",
      "* * \r\n",
      "* \r\n"
     ]
    }
   ],
   "source": [
    "for x in range(6,0,-1):\n",
    "    for y in range(1,x+1):\n",
    "        print(\"*\", end=\" \") \n",
    "    print(\"\\r\") "
   ]
  },
  {
   "cell_type": "code",
   "execution_count": 34,
   "id": "4aeb912c",
   "metadata": {},
   "outputs": [
    {
     "name": "stdout",
     "output_type": "stream",
     "text": [
      "1 1 1 1 1 \r\n",
      "2 2 2 2 \r\n",
      "3 3 3 \r\n",
      "2 2 \r\n",
      "1 \r\n"
     ]
    }
   ],
   "source": [
    "for x in range(5,2,-1):\n",
    "    z=5-x+1\n",
    "    for y in range(x):\n",
    "        print(z, end=\" \") \n",
    "    print(\"\\r\") \n",
    "for x in range(2,0,-1):\n",
    "    for y in range(x):\n",
    "        print(x, end=\" \") \n",
    "    print(\"\\r\") \n",
    "    "
   ]
  },
  {
   "cell_type": "code",
   "execution_count": 36,
   "id": "828d079a",
   "metadata": {},
   "outputs": [
    {
     "name": "stdout",
     "output_type": "stream",
     "text": [
      "1 2 3 4 5 \r\n",
      "1 2 3 4 \r\n",
      "1 2 3 \r\n",
      "1 2 \r\n",
      "1 \r\n"
     ]
    }
   ],
   "source": [
    "for x in range(5,0,-1):\n",
    "    z=1\n",
    "    for y in range(1,x+1):\n",
    "        print(z, end=\" \")\n",
    "        z=z+1\n",
    "    print(\"\\r\") "
   ]
  },
  {
   "cell_type": "code",
   "execution_count": 39,
   "id": "5b2fbaa3",
   "metadata": {},
   "outputs": [
    {
     "name": "stdout",
     "output_type": "stream",
     "text": [
      "5 5 5 5 5 \r\n",
      "4 4 4 4 \r\n",
      "3 3 3 \r\n",
      "2 2 \r\n",
      "1 \r\n"
     ]
    }
   ],
   "source": [
    "i=0\n",
    "for x in range(5,0,-1):\n",
    "    for y in range(1,x+1):\n",
    "        print(x, end=\" \") \n",
    "    i=i+1    \n",
    "    print(\"\\r\") "
   ]
  },
  {
   "cell_type": "code",
   "execution_count": 40,
   "id": "03c2accd",
   "metadata": {},
   "outputs": [
    {
     "name": "stdout",
     "output_type": "stream",
     "text": [
      "5 4 3 2 1 \r\n",
      "5 4 3 2 \r\n",
      "5 4 3 \r\n",
      "5 4 \r\n",
      "5 \r\n"
     ]
    }
   ],
   "source": [
    "for x in range(5,0,-1):\n",
    "    z=5\n",
    "    for y in range(1,x+1):\n",
    "        print(z, end=\" \")\n",
    "        z=z-1\n",
    "    print(\"\\r\") "
   ]
  },
  {
   "cell_type": "code",
   "execution_count": 47,
   "id": "b476c68f",
   "metadata": {},
   "outputs": [
    {
     "name": "stdout",
     "output_type": "stream",
     "text": [
      "          *          \n",
      "         ***         \n",
      "        *****        \n",
      "       *******       \n",
      "      *********      \n",
      "     ***********     \n"
     ]
    }
   ],
   "source": [
    "i=1\n",
    "while i<=11:\n",
    "    s=\"*\"*i\n",
    "    print(s.center(21))\n",
    "    i=i+2"
   ]
  },
  {
   "cell_type": "code",
   "execution_count": 50,
   "id": "7c92b392",
   "metadata": {},
   "outputs": [
    {
     "name": "stdout",
     "output_type": "stream",
     "text": [
      "          1          \n",
      "         222         \n",
      "        33333        \n",
      "       4444444       \n",
      "      555555555      \n"
     ]
    }
   ],
   "source": [
    "i=1\n",
    "z=1\n",
    "while i<=10:\n",
    "    s=str(z)*i\n",
    "    print(s.center(21))\n",
    "    i=i+2\n",
    "    z=z+1"
   ]
  },
  {
   "cell_type": "code",
   "execution_count": 1,
   "id": "7371a6c4",
   "metadata": {},
   "outputs": [
    {
     "name": "stdout",
     "output_type": "stream",
     "text": [
      "    1\n",
      "   123\n",
      "  12345\n",
      " 1234567\n",
      "123456789\n"
     ]
    }
   ],
   "source": [
    "\n",
    "\n",
    "for x in range(5):\n",
    "    for y in range (0, 5-1-x):\n",
    "        print(\" \", end=\"\")\n",
    "    for y in range (1, (2*x+1)+1):\n",
    "        print(f\"{y}\", end=\"\")\n",
    "    print(\"\")"
   ]
  },
  {
   "cell_type": "code",
   "execution_count": 2,
   "id": "1a0d43ed",
   "metadata": {},
   "outputs": [
    {
     "name": "stdout",
     "output_type": "stream",
     "text": [
      "    1     \n",
      "   232    \n",
      "  34543   \n",
      " 4567654  \n",
      "567898765 \n"
     ]
    }
   ],
   "source": [
    "n=0\n",
    "for i in range(1,6):\n",
    "    st=''\n",
    "    for j in range(1,2*i):\n",
    "        if j<=i:\n",
    "            n=n+1\n",
    "        else:\n",
    "            n=n-1\n",
    "        st=st+str(n)\n",
    "    print(st.center(10))"
   ]
  },
  {
   "cell_type": "code",
   "execution_count": 3,
   "id": "733b9c17",
   "metadata": {},
   "outputs": [
    {
     "name": "stdout",
     "output_type": "stream",
     "text": [
      "*********\n",
      " *******\n",
      "  *****\n",
      "   ***\n",
      "    *\n"
     ]
    }
   ],
   "source": [
    "n=6\n",
    "for i in range(n-1, 0, -1):\n",
    "    for j in range (0, n-(i+1)):\n",
    "        print(\" \", end=\"\")\n",
    "    for j in range (0, (2*i)-1):\n",
    "        print(\"*\", end=\"\")\n",
    "    print(\"\")"
   ]
  },
  {
   "cell_type": "code",
   "execution_count": 4,
   "id": "81935696",
   "metadata": {},
   "outputs": [
    {
     "name": "stdout",
     "output_type": "stream",
     "text": [
      "567898765 \n",
      " 5678765  \n",
      "  56765   \n",
      "   565    \n",
      "    5     \n"
     ]
    }
   ],
   "source": [
    "for i in range(5,0,-1):\n",
    "    n=4\n",
    "    st=\"\"\n",
    "    for j in range(2*i, 1, -1):\n",
    "        if j<=i:\n",
    "            n=n-1\n",
    "        else:\n",
    "            n=n+1\n",
    "        st=st+str(n)\n",
    "    print(st.center(10))\n",
    "    n-=1"
   ]
  },
  {
   "cell_type": "code",
   "execution_count": 5,
   "id": "9a7b599f",
   "metadata": {},
   "outputs": [
    {
     "name": "stdout",
     "output_type": "stream",
     "text": [
      "Enter the number of rows: 5\n",
      "    *\n",
      "   ***\n",
      "  *****\n",
      " *******\n",
      "*********\n",
      " *******\n",
      "  *****\n",
      "   ***\n",
      "    *\n"
     ]
    }
   ],
   "source": [
    "n=int(input(\"Enter the number of rows: \"))\n",
    "for i in range(n):\n",
    "    for j in range (0, n-1-i):\n",
    "        print(\" \", end=\"\")\n",
    "    for j in range (0, 2*i+1):\n",
    "        print(\"*\", end=\"\")\n",
    "    print(\"\")\n",
    "for i in range(n-1, 0, -1):\n",
    "    for j in range (0, n-(i+1)+1):\n",
    "        print(\" \", end=\"\")\n",
    "    for j in range (0, (2*i)-1):\n",
    "        print(\"*\", end=\"\")\n",
    "    print(\"\")"
   ]
  },
  {
   "cell_type": "code",
   "execution_count": 6,
   "id": "7166fe81",
   "metadata": {},
   "outputs": [
    {
     "name": "stdout",
     "output_type": "stream",
     "text": [
      "Enter the number of rows: 5\n",
      "    1\n",
      "   222\n",
      "  33333\n",
      " 4444444\n",
      "555555555\n",
      " 4444444\n",
      "  33333\n",
      "   222\n",
      "    1\n"
     ]
    }
   ],
   "source": [
    "n=int(input(\"Enter the number of rows: \"))\n",
    "for i in range(n):\n",
    "    for j in range (0, n-1-i):\n",
    "        print(\" \", end=\"\")\n",
    "    for j in range (0, 2*i+1):\n",
    "        print(f\"{i+1}\", end=\"\")\n",
    "    print(\"\")\n",
    "for i in range(n-1, 0, -1):\n",
    "    for j in range (0, n-(i+1)+1):\n",
    "        print(\" \", end=\"\")\n",
    "    for j in range (0, (2*i)-1):\n",
    "        print(f\"{i}\", end=\"\")\n",
    "    print(\"\")"
   ]
  },
  {
   "cell_type": "code",
   "execution_count": 7,
   "id": "5f51fc0e",
   "metadata": {},
   "outputs": [
    {
     "name": "stdout",
     "output_type": "stream",
     "text": [
      "Enter the number of rows for the square: 5\n",
      "*****\n",
      "*****\n",
      "*****\n",
      "*****\n",
      "*****\n"
     ]
    }
   ],
   "source": [
    "n=int(input(\"Enter the number of rows for the square: \"))\n",
    "for i in range(n):\n",
    "    print(\"*\"*n)"
   ]
  },
  {
   "cell_type": "code",
   "execution_count": 8,
   "id": "46e8aade",
   "metadata": {},
   "outputs": [
    {
     "name": "stdout",
     "output_type": "stream",
     "text": [
      "Enter the number of rows for the square: 5\n",
      "*****\n",
      "*   *\n",
      "*   *\n",
      "*   *\n",
      "*****\n"
     ]
    }
   ],
   "source": [
    "n=int(input(\"Enter the number of rows for the square: \"))\n",
    "for i in range(0, n):\n",
    "    if i==0 or i==n-1:\n",
    "        print(\"*\"*n)\n",
    "    else:\n",
    "        print(\"*\", end=\"\")\n",
    "        for j in range(0, n-2):\n",
    "            print(\" \", end=\"\")\n",
    "        print(\"*\")"
   ]
  },
  {
   "cell_type": "markdown",
   "id": "7236bf6f",
   "metadata": {},
   "source": [
    "<h1>TASK12</h1>"
   ]
  },
  {
   "cell_type": "code",
   "execution_count": null,
   "id": "236f9636",
   "metadata": {},
   "outputs": [
    {
     "name": "stdout",
     "output_type": "stream",
     "text": [
      "Guess: 6\n",
      "Incorrect Guess. 4 guesses remain.\n",
      "(Hint: The chosen value by computer is greater than the guessed value.)\n"
     ]
    }
   ],
   "source": [
    "import random\n",
    "\n",
    "chance=5\n",
    "choicetomake=random.randrange(1, 50, 1)\n",
    "if choicetomake>=1 and choicetomake<=50:\n",
    "    while chance!=0:\n",
    "        guess=int(input(\"Guess: \"))\n",
    "        if guess>50 or guess<1:\n",
    "            print(\"The range of numbers is 1 to 50 only.choose the no according to that \")\n",
    "            continue\n",
    "        if guess==choicetomake:\n",
    "            print(f\"Congrats. Correctly Guessed!!! The number chosen by computer was {guess}.\")\n",
    "            print(\"Game Over!!! User Wins!!!\")\n",
    "            break\n",
    "        else:\n",
    "            chance-=1\n",
    "            if (chance==0):\n",
    "                print(f\"The Number chosen by computer was {choicetomake}\")\n",
    "                print(f\"Incorrect Guess. {chance} guesses remain.\")\n",
    "                print(\"Game Over!!! Computer Wins!!!\")\n",
    "            else:\n",
    "                print(f\"Incorrect Guess. {chance} guesses remain.\")\n",
    "                if (guess>choicetomake):\n",
    "                    print(\"(Hint: The chosen value by computer is lesser than the guessed value.)\")\n",
    "                else:\n",
    "                    print(\"(Hint: The chosen value by computer is greater than the guessed value.)\")\n",
    "else:\n",
    "    print(\"The number chosen by the system is not in the given range (1-50)\")"
   ]
  },
  {
   "cell_type": "markdown",
   "id": "8210b674",
   "metadata": {},
   "source": [
    "    \n",
    "    "
   ]
  },
  {
   "cell_type": "markdown",
   "id": "520e5d8b",
   "metadata": {},
   "source": [
    "<h1>Task 13</h1>\n"
   ]
  },
  {
   "cell_type": "code",
   "execution_count": 5,
   "id": "b2550fd6",
   "metadata": {},
   "outputs": [
    {
     "name": "stdout",
     "output_type": "stream",
     "text": [
      "The vowel in our string is: 3\n"
     ]
    }
   ],
   "source": [
    "s=\"sahil singh\"\n",
    "length=len(s)\n",
    "count=0\n",
    "for i in range(0,length,1):\n",
    "    ch=s[i]\n",
    "    if ch in('a','A','e','E','i','I','o','O','u','U'):\n",
    "        count=count+1\n",
    "print(\"The vowel in our string is:\",count) "
   ]
  },
  {
   "cell_type": "code",
   "execution_count": 13,
   "id": "a5bc3fdc",
   "metadata": {},
   "outputs": [
    {
     "name": "stdout",
     "output_type": "stream",
     "text": [
      "The no of word in a string is:3\n",
      "The no of character in a string is:10\n",
      "The no of space in a string is:2\n"
     ]
    }
   ],
   "source": [
    "s=\"sahil  singh\"\n",
    "str=s.split(\" \")\n",
    "count=0\n",
    "print(f\"The no of word in a string is:{len(str)}\")\n",
    "for i in range(0,len(s),1):\n",
    "    ch=s[i]\n",
    "    if ch!=\" \":\n",
    "        count=count+1\n",
    "print(f\"The no of character in a string is:{count}\")    \n",
    "print(f\"The no of space in a string is:{len(s)-count}\")"
   ]
  },
  {
   "cell_type": "code",
   "execution_count": 17,
   "id": "892be8db",
   "metadata": {},
   "outputs": [
    {
     "name": "stdout",
     "output_type": "stream",
     "text": [
      "hello,World!This is a sample string.\n",
      "String after removing punctuation:\n",
      "helloWorldThis is a sample string\n"
     ]
    }
   ],
   "source": [
    "s = \"hello,World!This is a sample string.\"\n",
    "print(s)\n",
    "\n",
    "for char in ('!', '.', ','):\n",
    "    s = s.replace(char, '')\n",
    "\n",
    "print(\"String after removing punctuation:\")\n",
    "print(s)"
   ]
  },
  {
   "cell_type": "code",
   "execution_count": 20,
   "id": "9bc5e045",
   "metadata": {},
   "outputs": [
    {
     "name": "stdout",
     "output_type": "stream",
     "text": [
      "enter the no of row:2\n",
      "enter the no of column:2\n",
      "enter the no:1\n",
      "enter the no:2\n",
      "\n",
      "enter the no:3\n",
      "enter the no:4\n",
      "\n",
      "1 2 \n",
      "3 4 \n"
     ]
    }
   ],
   "source": [
    "row=int(input(\"enter the no of row:\"))\n",
    "column=int(input(\"enter the no of column:\"))\n",
    "a = [[0] * column for _ in range(row)] \n",
    "for i in range(0,row,1):\n",
    "    for j in range(0,column,1):\n",
    "        a[i][j]=int(input(\"enter the no:\"))\n",
    "    print(\"\\r\")  \n",
    "for i in range(0,row,1):\n",
    "    for j in range(0,column,1):\n",
    "        print(a[i][j],end=\" \")\n",
    "    print(\"\\r\")      \n",
    "    \n",
    "        "
   ]
  },
  {
   "cell_type": "code",
   "execution_count": 31,
   "id": "3f7c210a",
   "metadata": {
    "scrolled": false
   },
   "outputs": [
    {
     "name": "stdout",
     "output_type": "stream",
     "text": [
      "Enter the number of rows for matrix 1: 2\n",
      "Enter the number of columns for matrix 1: 2\n",
      "Enter the number: 1\n",
      "Enter the number: 2\n",
      "\n",
      "Enter the number: 3\n",
      "Enter the number: 4\n",
      "\n",
      "1 2 \n",
      "3 4 \n",
      "Enter the number of rows for matrix 2: 2\n",
      "Enter the number of columns for matrix 2: 2\n",
      "Enter the number: 1\n",
      "Enter the number: 2\n",
      "\n",
      "Enter the number: 3\n",
      "Enter the number: 4\n",
      "\n",
      "1 2 \n",
      "3 4 \n",
      "---------------\n",
      "Addition of two matrices\n",
      "\n",
      "\n",
      "2 4 \n",
      "6 8 \n",
      "Transpose of matrix\n",
      "\n",
      "\n",
      "1 3 \n",
      "2 4 \n",
      "Multiplication of two matrices\n",
      "\n",
      "\n",
      "7 10 \n",
      "15 22 \n"
     ]
    }
   ],
   "source": [
    "row = int(input(\"Enter the number of rows for matrix 1: \"))\n",
    "column = int(input(\"Enter the number of columns for matrix 1: \"))\n",
    "\n",
    "a = [[0] * column for _ in range(row)]\n",
    "for i in range(row):\n",
    "    for j in range(column):\n",
    "        a[i][j] = int(input(\"Enter the number: \"))\n",
    "    print(\"\\r\")\n",
    "\n",
    "for i in range(row):\n",
    "    for j in range(column):\n",
    "        print(a[i][j], end=\" \")\n",
    "    print(\"\\r\")\n",
    "\n",
    "row2 = int(input(\"Enter the number of rows for matrix 2: \"))\n",
    "column2 = int(input(\"Enter the number of columns for matrix 2: \"))\n",
    "\n",
    "b = [[0] * column2 for _ in range(row2)]\n",
    "c = [[0] * column2 for _ in range(row)]\n",
    "\n",
    "for i in range(row2):\n",
    "    for j in range(column2):\n",
    "        b[i][j] = int(input(\"Enter the number: \"))\n",
    "    print(\"\\r\")\n",
    "\n",
    "for i in range(row2):\n",
    "    for j in range(column2):\n",
    "        print(b[i][j], end=\" \")\n",
    "    print(\"\\r\")\n",
    "\n",
    "print(\"---------------\")\n",
    "print(\"Addition of two matrices\")\n",
    "\n",
    "for i in range(row):\n",
    "    for j in range(column2):\n",
    "        c[i][j] = a[i][j] + b[i][j]\n",
    "    print(\"\\r\")\n",
    "\n",
    "for i in range(row):\n",
    "    for j in range(column2):\n",
    "        print(c[i][j], end=\" \")\n",
    "    print(\"\\r\")\n",
    "\n",
    "print(\"Transpose of matrix\")\n",
    "\n",
    "for i in range(column):\n",
    "    for j in range(row):\n",
    "        c[i][j] = a[j][i]\n",
    "    print(\"\\r\")\n",
    "\n",
    "for i in range(column):\n",
    "    for j in range(row):\n",
    "        print(c[i][j], end=\" \")\n",
    "    print(\"\\r\")\n",
    "\n",
    "print(\"Multiplication of two matrices\")\n",
    "\n",
    "for i in range(row):\n",
    "    for j in range(column2):\n",
    "        c[i][j] = 0\n",
    "        for k in range(column):\n",
    "            c[i][j] += a[i][k] * b[k][j]\n",
    "    print(\"\\r\")\n",
    "\n",
    "for i in range(row):\n",
    "    for j in range(column2):\n",
    "        print(c[i][j], end=\" \")\n",
    "    print(\"\\r\")\n"
   ]
  },
  {
   "cell_type": "markdown",
   "id": "4f58a1e8",
   "metadata": {},
   "source": [
    "<h1>TASK14</h1>"
   ]
  },
  {
   "cell_type": "code",
   "execution_count": 33,
   "id": "eaad213c",
   "metadata": {},
   "outputs": [
    {
     "name": "stdout",
     "output_type": "stream",
     "text": [
      "enter a no:123\n",
      "5\n"
     ]
    }
   ],
   "source": []
  },
  {
   "cell_type": "code",
   "execution_count": 34,
   "id": "4657f108",
   "metadata": {},
   "outputs": [
    {
     "name": "stdout",
     "output_type": "stream",
     "text": [
      "enter a no:123\n",
      "The sum of a number until the sum is reduced tp 1 digit 6\n"
     ]
    }
   ],
   "source": [
    "num=int(input(\"enter a no:\"))\n",
    "temp=num\n",
    "sum=0\n",
    "while temp>=10:\n",
    "    while temp>0:\n",
    "        rem=temp%10\n",
    "        sum=sum+rem\n",
    "        temp=temp//10\n",
    "print(\"The sum of a number until the sum is reduced tp 1 digit\",sum)    "
   ]
  },
  {
   "cell_type": "code",
   "execution_count": 40,
   "id": "c9ce1bc3",
   "metadata": {},
   "outputs": [
    {
     "name": "stdout",
     "output_type": "stream",
     "text": [
      "enter a range upto we want to find the cube of a no:20\n",
      "No is:3-27\n",
      "No is:6-216\n",
      "No is:9-729\n",
      "No is:12-1728\n",
      "No is:15-3375\n",
      "No is:18-5832\n"
     ]
    }
   ],
   "source": [
    "num=int(input(\"enter a range upto we want to find the cube of a no:\"))\n",
    "i=1\n",
    "while i<=num:\n",
    "    if i%3==0:\n",
    "        print(f\"No is:{i}-{i**3}\")\n",
    "    \n",
    "    i=i+1    "
   ]
  },
  {
   "cell_type": "code",
   "execution_count": 45,
   "id": "5b1aeef7",
   "metadata": {},
   "outputs": [
    {
     "name": "stdout",
     "output_type": "stream",
     "text": [
      "enter a no:0\n",
      "The No of digit is: 1\n"
     ]
    }
   ],
   "source": [
    "num=int(input(\"enter a no:\"))\n",
    "temp=num\n",
    "count=0\n",
    "while temp>=0:\n",
    "    if temp==0:\n",
    "        count=count+1\n",
    "        break\n",
    "\n",
    "    rem=temp%10\n",
    "    count=count+1\n",
    "    temp=temp//10\n",
    "print(\"The No of digit is:\",count)   "
   ]
  },
  {
   "cell_type": "code",
   "execution_count": 48,
   "id": "e10f83c7",
   "metadata": {},
   "outputs": [
    {
     "name": "stdout",
     "output_type": "stream",
     "text": [
      "enter a no:123\n",
      "The Reverse  of digit is: 321\n",
      "Double of a reverse digit is: 103041\n"
     ]
    }
   ],
   "source": [
    "num=int(input(\"enter a no:\"))\n",
    "temp=num\n",
    "rev=0\n",
    "while temp>0:\n",
    "    rem=temp%10\n",
    "    rev=rev*10+rem\n",
    "    temp=temp//10\n",
    "print(\"The Reverse  of digit is:\",rev)\n",
    "print(\"Double of a reverse digit is:\",rev**2)"
   ]
  },
  {
   "cell_type": "code",
   "execution_count": 50,
   "id": "da8755bd",
   "metadata": {},
   "outputs": [
    {
     "ename": "KeyboardInterrupt",
     "evalue": "Interrupted by user",
     "output_type": "error",
     "traceback": [
      "\u001b[1;31m---------------------------------------------------------------------------\u001b[0m",
      "\u001b[1;31mKeyboardInterrupt\u001b[0m                         Traceback (most recent call last)",
      "Cell \u001b[1;32mIn[50], line 7\u001b[0m\n\u001b[0;32m      4\u001b[0m count \u001b[38;5;241m=\u001b[39m \u001b[38;5;241m0\u001b[39m\n\u001b[0;32m      6\u001b[0m \u001b[38;5;28;01mfor\u001b[39;00m i \u001b[38;5;129;01min\u001b[39;00m \u001b[38;5;28mrange\u001b[39m(\u001b[38;5;241m10\u001b[39m):\n\u001b[1;32m----> 7\u001b[0m     rollno \u001b[38;5;241m=\u001b[39m \u001b[38;5;28mint\u001b[39m(\u001b[38;5;28;43minput\u001b[39;49m\u001b[43m(\u001b[49m\u001b[38;5;124;43m\"\u001b[39;49m\u001b[38;5;124;43mEnter a roll no: \u001b[39;49m\u001b[38;5;124;43m\"\u001b[39;49m\u001b[43m)\u001b[49m)\n\u001b[0;32m      8\u001b[0m     \u001b[38;5;28;01mif\u001b[39;00m rollno \u001b[38;5;241m<\u001b[39m \u001b[38;5;241m1000\u001b[39m \u001b[38;5;129;01mor\u001b[39;00m rollno \u001b[38;5;241m>\u001b[39m \u001b[38;5;241m9999\u001b[39m:\n\u001b[0;32m      9\u001b[0m         rollno \u001b[38;5;241m=\u001b[39m \u001b[38;5;28mint\u001b[39m(\u001b[38;5;28minput\u001b[39m(\u001b[38;5;124m\"\u001b[39m\u001b[38;5;124mRoll number is not in the range we have mentioned. Please enter again: \u001b[39m\u001b[38;5;124m\"\u001b[39m))\n",
      "File \u001b[1;32mC:\\ProgramData\\anaconda3\\lib\\site-packages\\ipykernel\\kernelbase.py:1175\u001b[0m, in \u001b[0;36mKernel.raw_input\u001b[1;34m(self, prompt)\u001b[0m\n\u001b[0;32m   1171\u001b[0m \u001b[38;5;28;01mif\u001b[39;00m \u001b[38;5;129;01mnot\u001b[39;00m \u001b[38;5;28mself\u001b[39m\u001b[38;5;241m.\u001b[39m_allow_stdin:\n\u001b[0;32m   1172\u001b[0m     \u001b[38;5;28;01mraise\u001b[39;00m StdinNotImplementedError(\n\u001b[0;32m   1173\u001b[0m         \u001b[38;5;124m\"\u001b[39m\u001b[38;5;124mraw_input was called, but this frontend does not support input requests.\u001b[39m\u001b[38;5;124m\"\u001b[39m\n\u001b[0;32m   1174\u001b[0m     )\n\u001b[1;32m-> 1175\u001b[0m \u001b[38;5;28;01mreturn\u001b[39;00m \u001b[38;5;28;43mself\u001b[39;49m\u001b[38;5;241;43m.\u001b[39;49m\u001b[43m_input_request\u001b[49m\u001b[43m(\u001b[49m\n\u001b[0;32m   1176\u001b[0m \u001b[43m    \u001b[49m\u001b[38;5;28;43mstr\u001b[39;49m\u001b[43m(\u001b[49m\u001b[43mprompt\u001b[49m\u001b[43m)\u001b[49m\u001b[43m,\u001b[49m\n\u001b[0;32m   1177\u001b[0m \u001b[43m    \u001b[49m\u001b[38;5;28;43mself\u001b[39;49m\u001b[38;5;241;43m.\u001b[39;49m\u001b[43m_parent_ident\u001b[49m\u001b[43m[\u001b[49m\u001b[38;5;124;43m\"\u001b[39;49m\u001b[38;5;124;43mshell\u001b[39;49m\u001b[38;5;124;43m\"\u001b[39;49m\u001b[43m]\u001b[49m\u001b[43m,\u001b[49m\n\u001b[0;32m   1178\u001b[0m \u001b[43m    \u001b[49m\u001b[38;5;28;43mself\u001b[39;49m\u001b[38;5;241;43m.\u001b[39;49m\u001b[43mget_parent\u001b[49m\u001b[43m(\u001b[49m\u001b[38;5;124;43m\"\u001b[39;49m\u001b[38;5;124;43mshell\u001b[39;49m\u001b[38;5;124;43m\"\u001b[39;49m\u001b[43m)\u001b[49m\u001b[43m,\u001b[49m\n\u001b[0;32m   1179\u001b[0m \u001b[43m    \u001b[49m\u001b[43mpassword\u001b[49m\u001b[38;5;241;43m=\u001b[39;49m\u001b[38;5;28;43;01mFalse\u001b[39;49;00m\u001b[43m,\u001b[49m\n\u001b[0;32m   1180\u001b[0m \u001b[43m\u001b[49m\u001b[43m)\u001b[49m\n",
      "File \u001b[1;32mC:\\ProgramData\\anaconda3\\lib\\site-packages\\ipykernel\\kernelbase.py:1217\u001b[0m, in \u001b[0;36mKernel._input_request\u001b[1;34m(self, prompt, ident, parent, password)\u001b[0m\n\u001b[0;32m   1214\u001b[0m             \u001b[38;5;28;01mbreak\u001b[39;00m\n\u001b[0;32m   1215\u001b[0m \u001b[38;5;28;01mexcept\u001b[39;00m \u001b[38;5;167;01mKeyboardInterrupt\u001b[39;00m:\n\u001b[0;32m   1216\u001b[0m     \u001b[38;5;66;03m# re-raise KeyboardInterrupt, to truncate traceback\u001b[39;00m\n\u001b[1;32m-> 1217\u001b[0m     \u001b[38;5;28;01mraise\u001b[39;00m \u001b[38;5;167;01mKeyboardInterrupt\u001b[39;00m(\u001b[38;5;124m\"\u001b[39m\u001b[38;5;124mInterrupted by user\u001b[39m\u001b[38;5;124m\"\u001b[39m) \u001b[38;5;28;01mfrom\u001b[39;00m \u001b[38;5;28mNone\u001b[39m\n\u001b[0;32m   1218\u001b[0m \u001b[38;5;28;01mexcept\u001b[39;00m \u001b[38;5;167;01mException\u001b[39;00m:\n\u001b[0;32m   1219\u001b[0m     \u001b[38;5;28mself\u001b[39m\u001b[38;5;241m.\u001b[39mlog\u001b[38;5;241m.\u001b[39mwarning(\u001b[38;5;124m\"\u001b[39m\u001b[38;5;124mInvalid Message:\u001b[39m\u001b[38;5;124m\"\u001b[39m, exc_info\u001b[38;5;241m=\u001b[39m\u001b[38;5;28;01mTrue\u001b[39;00m)\n",
      "\u001b[1;31mKeyboardInterrupt\u001b[0m: Interrupted by user"
     ]
    }
   ],
   "source": [
    "students = []\n",
    "marks = []\n",
    "j = 1\n",
    "count = 0\n",
    "\n",
    "for i in range(10):\n",
    "    rollno = int(input(\"Enter a roll no: \"))\n",
    "    if rollno < 1000 or rollno > 9999:\n",
    "        rollno = int(input(\"Roll number is not in the range we have mentioned. Please enter again: \"))\n",
    "\n",
    "    students.append(rollno)\n",
    "    marks.append([0, 0, 0])\n",
    "    totalmarks = 0\n",
    "\n",
    "    while j <= 3:\n",
    "        marks[i][j] = int(input(f\"Enter marks of subject {j}: \"))\n",
    "        if marks[i][j] > 40:\n",
    "            totalmarks += marks[i][j]\n",
    "        count += 1\n",
    "        j += 1\n",
    "\n",
    "    print(f\"Total marks of student {i+1} is {totalmarks}\")\n"
   ]
  },
  {
   "cell_type": "code",
   "execution_count": null,
   "id": "57fb6565",
   "metadata": {},
   "outputs": [],
   "source": []
  }
 ],
 "metadata": {
  "kernelspec": {
   "display_name": "Python 3 (ipykernel)",
   "language": "python",
   "name": "python3"
  },
  "language_info": {
   "codemirror_mode": {
    "name": "ipython",
    "version": 3
   },
   "file_extension": ".py",
   "mimetype": "text/x-python",
   "name": "python",
   "nbconvert_exporter": "python",
   "pygments_lexer": "ipython3",
   "version": "3.10.9"
  }
 },
 "nbformat": 4,
 "nbformat_minor": 5
}
